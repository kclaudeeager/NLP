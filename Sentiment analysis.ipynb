{
 "cells": [
  {
   "cell_type": "code",
   "execution_count": 31,
   "metadata": {},
   "outputs": [
    {
     "name": "stdout",
     "output_type": "stream",
     "text": [
      "['Dog', 'is', 'playing', 'I', 'love', 'my', 'dog']\n",
      "About to print the vector for word: Dog \n",
      "\n",
      "[1, 0, 0, 0, 0, 0, 0]\n",
      "About to print the vector for word: is \n",
      "\n",
      "[0, 1, 0, 0, 0, 0, 0]\n",
      "About to print the vector for word: playing \n",
      "\n",
      " \n",
      " the next document \n",
      "___________________________________________\n",
      "[0, 0, 1, 0, 0, 0, 0]\n",
      "About to print the vector for word: I \n",
      "\n",
      "[0, 0, 0, 1, 0, 0, 0]\n",
      "About to print the vector for word: love \n",
      "\n",
      "[0, 0, 0, 0, 1, 0, 0]\n",
      "About to print the vector for word: my \n",
      "\n",
      "[0, 0, 0, 0, 0, 1, 0]\n",
      "document1 vector:  [0 0 0 0 0 1 1]\n",
      "document2 vector:  [0 0 1 1 0 0 0]\n"
     ]
    }
   ],
   "source": [
    "import numpy\n",
    "doc1='Dog is playing'\n",
    "doc2='I love my dog'\n",
    "#features(One-hot)\n",
    "#vectors within the first doc\n",
    "class create_dict(dict):\n",
    "    \n",
    "    def __init__(self):\n",
    "        self = dict()\n",
    "\n",
    "    def add(self, key, value):\n",
    "        self[key] = value\n",
    "\n",
    "def returnList(doc):\n",
    "    #doc=doc.lower()\n",
    "\n",
    "    return doc.split(' ')\n",
    "#print(returnList(doc1))\n",
    "def retunVector(word,wordList):\n",
    "    myVector=list()\n",
    "    for w in wordList:\n",
    "        if word==w:\n",
    "            myVector.append(1)\n",
    "        else:\n",
    "            myVector.append(0)\n",
    "    return myVector\n",
    "            \n",
    "def returnVectorDictionary(word,wordList):\n",
    "    print('word: ',word)\n",
    "    mydict=create_dict()\n",
    "    mydict.add(word,wordList.count(word))\n",
    "    \n",
    "    return mydict\n",
    "wordList=returnList(doc1+\" \"+doc2)\n",
    "doc1Vector=list()\n",
    "doc2Vector=list()\n",
    "print(wordList)\n",
    "for i in range(len(wordList)-1):\n",
    "    #print(word)\n",
    "    #print(returnVectorDictionary(word,wordList))\n",
    "    print(\"About to print the vector for word:\",wordList[i]+\" \\n\")\n",
    "    if wordList[i]!=(doc1.split().pop(-1)):\n",
    "        vector=retunVector(wordList[i],wordList)\n",
    "        print(vector)\n",
    "        doc1Vector=numpy.array(vector)+(numpy.array(retunVector(wordList[i+1],wordList)))\n",
    "        #print(doc1Vector)\n",
    "    else:\n",
    "         print(\" \\n the next document \\n___________________________________________\")\n",
    "         vector2=retunVector(wordList[i],wordList)\n",
    "         print(vector2)\n",
    "         doc2Vector=numpy.array(vector2)+(numpy.array(retunVector(wordList[i+1],wordList)))\n",
    "        # print(doc2Vector)\n",
    "print(\"document1 vector: \",doc1Vector)\n",
    "print('document2 vector: ',doc2Vector)\n",
    "   \n",
    "        \n",
    "       \n",
    "    \n",
    "    "
   ]
  }
 ],
 "metadata": {
  "interpreter": {
   "hash": "afb734500600fd355917ca529030176ea0ca205570884b88f2f6f7d791fd3fbe"
  },
  "kernelspec": {
   "display_name": "Python 3.10.4 64-bit",
   "language": "python",
   "name": "python3"
  },
  "language_info": {
   "codemirror_mode": {
    "name": "ipython",
    "version": 3
   },
   "file_extension": ".py",
   "mimetype": "text/x-python",
   "name": "python",
   "nbconvert_exporter": "python",
   "pygments_lexer": "ipython3",
   "version": "3.10.4"
  },
  "orig_nbformat": 4
 },
 "nbformat": 4,
 "nbformat_minor": 2
}
